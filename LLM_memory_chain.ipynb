{
  "nbformat": 4,
  "nbformat_minor": 0,
  "metadata": {
    "colab": {
      "provenance": [],
      "authorship_tag": "ABX9TyOM6vqzm2OJTIJwTUzbYXC1",
      "include_colab_link": true
    },
    "kernelspec": {
      "name": "python3",
      "display_name": "Python 3"
    },
    "language_info": {
      "name": "python"
    }
  },
  "cells": [
    {
      "cell_type": "markdown",
      "metadata": {
        "id": "view-in-github",
        "colab_type": "text"
      },
      "source": [
        "<a href=\"https://colab.research.google.com/github/aicrashcoursewinter24/Cooper-labs/blob/Agent_Branch/LLM_memory_chain.ipynb\" target=\"_parent\"><img src=\"https://colab.research.google.com/assets/colab-badge.svg\" alt=\"Open In Colab\"/></a>"
      ]
    },
    {
      "cell_type": "code",
      "execution_count": null,
      "metadata": {
        "colab": {
          "base_uri": "https://localhost:8080/"
        },
        "id": "oDOjd5LlmuFZ",
        "outputId": "1c85dc45-25fb-4cbe-b887-75a0383a0f49"
      },
      "outputs": [
        {
          "output_type": "stream",
          "name": "stdout",
          "text": [
            "Generated Sequence: [2, 3, 1, 2, 3]\n"
          ]
        }
      ],
      "source": [
        "import random\n",
        "\n",
        "class LLMChain:\n",
        "    def __init__(self, order):\n",
        "        self.order = order\n",
        "        self.transitions = {}\n",
        "\n",
        "    def train(self, sequence):\n",
        "        for i in range(len(sequence) - self.order):\n",
        "            current_state = tuple(sequence[i:i + self.order])\n",
        "            next_state = sequence[i + self.order]\n",
        "\n",
        "            if current_state not in self.transitions:\n",
        "                self.transitions[current_state] = []\n",
        "\n",
        "            self.transitions[current_state].append(next_state)\n",
        "\n",
        "    def generate_sequence(self, length, initial_state=None):\n",
        "        if initial_state is None:\n",
        "            initial_state = random.choice(list(self.transitions.keys()))\n",
        "\n",
        "        current_state = initial_state\n",
        "        generated_sequence = list(current_state)\n",
        "\n",
        "        for _ in range(length - self.order):\n",
        "            if current_state in self.transitions:\n",
        "                next_state = random.choice(self.transitions[current_state])\n",
        "                generated_sequence.append(next_state)\n",
        "                current_state = tuple(generated_sequence[-self.order:])\n",
        "            else:\n",
        "                break\n",
        "\n",
        "        return generated_sequence\n",
        "\n",
        "# Example usage:\n",
        "# Create an instance of LLMChain with order 2\n",
        "llm_chain = LLMChain(order=2)\n",
        "\n",
        "# Train the model with a sample sequence\n",
        "training_sequence = [1, 2, 3, 1, 2, 3, 4, 5]\n",
        "llm_chain.train(training_sequence)\n",
        "\n",
        "# Generate a new sequence\n",
        "generated_sequence = llm_chain.generate_sequence(length=5)\n",
        "print(\"Generated Sequence:\", generated_sequence)"
      ]
    },
    {
      "cell_type": "code",
      "source": [],
      "metadata": {
        "id": "3drJK0eKLxvP"
      },
      "execution_count": null,
      "outputs": []
    }
  ]
}